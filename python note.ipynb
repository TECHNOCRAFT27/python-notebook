{
 "cells": [
  {
   "cell_type": "markdown",
   "id": "fdabc2da",
   "metadata": {},
   "source": [
    "😊 learning python in one go..."
   ]
  },
  {
   "cell_type": "code",
   "execution_count": 7,
   "id": "8d298fd2",
   "metadata": {},
   "outputs": [
    {
     "name": "stdout",
     "output_type": "stream",
     "text": [
      "hello senpai kun\n"
     ]
    }
   ],
   "source": [
    "print('hello senpai kun')"
   ]
  },
  {
   "cell_type": "markdown",
   "id": "733b8937",
   "metadata": {},
   "source": [
    "1️⃣:string "
   ]
  },
  {
   "cell_type": "code",
   "execution_count": 8,
   "id": "b60a1672",
   "metadata": {},
   "outputs": [
    {
     "name": "stdout",
     "output_type": "stream",
     "text": [
      "hello world 🌍\n"
     ]
    }
   ],
   "source": [
    "text = 'hello world 🌍'\n",
    "print(text)"
   ]
  },
  {
   "cell_type": "code",
   "execution_count": 9,
   "id": "17576b94",
   "metadata": {},
   "outputs": [
    {
     "name": "stdout",
     "output_type": "stream",
     "text": [
      "world 🌍\n"
     ]
    }
   ],
   "source": [
    "# indexing or location of element in texts\n",
    "\n",
    "print(text[6:])"
   ]
  },
  {
   "cell_type": "code",
   "execution_count": 10,
   "id": "3974f5fd",
   "metadata": {},
   "outputs": [
    {
     "name": "stdout",
     "output_type": "stream",
     "text": [
      "lowercase: hello world 🌍\n",
      "lowercase: HELLO WORLD 🌍\n"
     ]
    }
   ],
   "source": [
    "#case\n",
    "print(\"lowercase:\" ,text.lower())\n",
    "print(\"lowercase:\" ,text.upper())"
   ]
  },
  {
   "cell_type": "code",
   "execution_count": 11,
   "id": "24725b40",
   "metadata": {},
   "outputs": [
    {
     "name": "stdout",
     "output_type": "stream",
     "text": [
      "\n",
      "      example letter in \"l\" in text : 3\n",
      "      \n"
     ]
    }
   ],
   "source": [
    "#count element repeatation in string:\n",
    "print(f\"\"\"\n",
    "      example letter in \"l\" in text : {text.count(\"l\")}\n",
    "      \"\"\")"
   ]
  },
  {
   "cell_type": "code",
   "execution_count": 12,
   "id": "8069a408",
   "metadata": {},
   "outputs": [
    {
     "name": "stdout",
     "output_type": "stream",
     "text": [
      "6\n"
     ]
    }
   ],
   "source": [
    "print(text.index(\"world\"))"
   ]
  },
  {
   "cell_type": "code",
   "execution_count": 13,
   "id": "ffe04eb6",
   "metadata": {},
   "outputs": [
    {
     "name": "stdout",
     "output_type": "stream",
     "text": [
      "world is at : 0 location\n",
      "word is found in sentense\n"
     ]
    }
   ],
   "source": [
    "# if find word of sentense\n",
    "find_word = text.find(\"hello\")\n",
    "print(\"world is at :\",find_word,\"location\")\n",
    "\n",
    "if find_word != -1:\n",
    "    print(\"word is found in sentense\")\n",
    "else:\n",
    "    print(\"not found\")\n",
    "\n",
    "\n"
   ]
  },
  {
   "cell_type": "code",
   "execution_count": 14,
   "id": "c4214cf9",
   "metadata": {},
   "outputs": [
    {
     "name": "stdout",
     "output_type": "stream",
     "text": [
      "word is found in sentense\n"
     ]
    }
   ],
   "source": [
    "#if check word of sentense\n",
    " \n",
    "if \"hello\" in text:\n",
    "    print(\"word is found in sentense\")\n",
    "else:\n",
    "    print(\"not found\")"
   ]
  },
  {
   "cell_type": "code",
   "execution_count": 15,
   "id": "16aeea83",
   "metadata": {},
   "outputs": [
    {
     "name": "stdout",
     "output_type": "stream",
     "text": [
      "hello universe 🌌\n"
     ]
    }
   ],
   "source": [
    "#replace word\n",
    "\n",
    "new_word=text.replace('world 🌍','universe 🌌')\n",
    "print(new_word)"
   ]
  },
  {
   "cell_type": "code",
   "execution_count": 16,
   "id": "cbdc8fa6",
   "metadata": {},
   "outputs": [
    {
     "name": "stdout",
     "output_type": "stream",
     "text": [
      " you are: \n"
     ]
    }
   ],
   "source": [
    "#some other command\n",
    "\n",
    "text = \" you are: {}\"\n",
    "your_name =input(\"enter your 🫵 name:\")\n",
    "print(text.format(your_name))  \n"
   ]
  },
  {
   "cell_type": "markdown",
   "id": "928cec85",
   "metadata": {},
   "source": [
    "custom encode text Cipher"
   ]
  },
  {
   "cell_type": "code",
   "execution_count": 17,
   "id": "65b5b340",
   "metadata": {},
   "outputs": [
    {
     "name": "stdout",
     "output_type": "stream",
     "text": [
      "not 10 digit number\n"
     ]
    }
   ],
   "source": [
    "#phone number field\n",
    "\n",
    "phone_number=input(\"enter 📲 phone number:\")\n",
    "\n",
    "\n",
    "if len(phone_number) == 10:\n",
    "    if phone_number.isdigit()== True:\n",
    "        print(\"it is 10 digit nmuber \")\n",
    "    else:\n",
    "        print(\"it not digit number\")\n",
    "else:\n",
    "    print(\"not 10 digit number\")"
   ]
  },
  {
   "cell_type": "markdown",
   "id": "417f800b",
   "metadata": {},
   "source": [
    "❤️how to get help and know all property"
   ]
  },
  {
   "cell_type": "code",
   "execution_count": 18,
   "id": "5f9ca1bd",
   "metadata": {},
   "outputs": [
    {
     "name": "stdout",
     "output_type": "stream",
     "text": [
      "['__add__', '__class__', '__contains__', '__delattr__', '__dir__', '__doc__', '__eq__', '__format__', '__ge__', '__getattribute__', '__getitem__', '__getnewargs__', '__getstate__', '__gt__', '__hash__', '__init__', '__init_subclass__', '__iter__', '__le__', '__len__', '__lt__', '__mod__', '__mul__', '__ne__', '__new__', '__reduce__', '__reduce_ex__', '__repr__', '__rmod__', '__rmul__', '__setattr__', '__sizeof__', '__str__', '__subclasshook__', 'capitalize', 'casefold', 'center', 'count', 'encode', 'endswith', 'expandtabs', 'find', 'format', 'format_map', 'index', 'isalnum', 'isalpha', 'isascii', 'isdecimal', 'isdigit', 'isidentifier', 'islower', 'isnumeric', 'isprintable', 'isspace', 'istitle', 'isupper', 'join', 'ljust', 'lower', 'lstrip', 'maketrans', 'partition', 'removeprefix', 'removesuffix', 'replace', 'rfind', 'rindex', 'rjust', 'rpartition', 'rsplit', 'rstrip', 'split', 'splitlines', 'startswith', 'strip', 'swapcase', 'title', 'translate', 'upper', 'zfill']\n",
      "Help on class str in module builtins:\n",
      "\n",
      "class str(object)\n",
      " |  str(object='') -> str\n",
      " |  str(bytes_or_buffer[, encoding[, errors]]) -> str\n",
      " |  \n",
      " |  Create a new string object from the given object. If encoding or\n",
      " |  errors is specified, then the object must expose a data buffer\n",
      " |  that will be decoded using the given encoding and error handler.\n",
      " |  Otherwise, returns the result of object.__str__() (if defined)\n",
      " |  or repr(object).\n",
      " |  encoding defaults to sys.getdefaultencoding().\n",
      " |  errors defaults to 'strict'.\n",
      " |  \n",
      " |  Methods defined here:\n",
      " |  \n",
      " |  __add__(self, value, /)\n",
      " |      Return self+value.\n",
      " |  \n",
      " |  __contains__(self, key, /)\n",
      " |      Return key in self.\n",
      " |  \n",
      " |  __eq__(self, value, /)\n",
      " |      Return self==value.\n",
      " |  \n",
      " |  __format__(self, format_spec, /)\n",
      " |      Return a formatted version of the string as described by format_spec.\n",
      " |  \n",
      " |  __ge__(self, value, /)\n",
      " |      Return self>=value.\n",
      " |  \n",
      " |  __getattribute__(self, name, /)\n",
      " |      Return getattr(self, name).\n",
      " |  \n",
      " |  __getitem__(self, key, /)\n",
      " |      Return self[key].\n",
      " |  \n",
      " |  __getnewargs__(...)\n",
      " |  \n",
      " |  __gt__(self, value, /)\n",
      " |      Return self>value.\n",
      " |  \n",
      " |  __hash__(self, /)\n",
      " |      Return hash(self).\n",
      " |  \n",
      " |  __iter__(self, /)\n",
      " |      Implement iter(self).\n",
      " |  \n",
      " |  __le__(self, value, /)\n",
      " |      Return self<=value.\n",
      " |  \n",
      " |  __len__(self, /)\n",
      " |      Return len(self).\n",
      " |  \n",
      " |  __lt__(self, value, /)\n",
      " |      Return self<value.\n",
      " |  \n",
      " |  __mod__(self, value, /)\n",
      " |      Return self%value.\n",
      " |  \n",
      " |  __mul__(self, value, /)\n",
      " |      Return self*value.\n",
      " |  \n",
      " |  __ne__(self, value, /)\n",
      " |      Return self!=value.\n",
      " |  \n",
      " |  __repr__(self, /)\n",
      " |      Return repr(self).\n",
      " |  \n",
      " |  __rmod__(self, value, /)\n",
      " |      Return value%self.\n",
      " |  \n",
      " |  __rmul__(self, value, /)\n",
      " |      Return value*self.\n",
      " |  \n",
      " |  __sizeof__(self, /)\n",
      " |      Return the size of the string in memory, in bytes.\n",
      " |  \n",
      " |  __str__(self, /)\n",
      " |      Return str(self).\n",
      " |  \n",
      " |  capitalize(self, /)\n",
      " |      Return a capitalized version of the string.\n",
      " |      \n",
      " |      More specifically, make the first character have upper case and the rest lower\n",
      " |      case.\n",
      " |  \n",
      " |  casefold(self, /)\n",
      " |      Return a version of the string suitable for caseless comparisons.\n",
      " |  \n",
      " |  center(self, width, fillchar=' ', /)\n",
      " |      Return a centered string of length width.\n",
      " |      \n",
      " |      Padding is done using the specified fill character (default is a space).\n",
      " |  \n",
      " |  count(...)\n",
      " |      S.count(sub[, start[, end]]) -> int\n",
      " |      \n",
      " |      Return the number of non-overlapping occurrences of substring sub in\n",
      " |      string S[start:end].  Optional arguments start and end are\n",
      " |      interpreted as in slice notation.\n",
      " |  \n",
      " |  encode(self, /, encoding='utf-8', errors='strict')\n",
      " |      Encode the string using the codec registered for encoding.\n",
      " |      \n",
      " |      encoding\n",
      " |        The encoding in which to encode the string.\n",
      " |      errors\n",
      " |        The error handling scheme to use for encoding errors.\n",
      " |        The default is 'strict' meaning that encoding errors raise a\n",
      " |        UnicodeEncodeError.  Other possible values are 'ignore', 'replace' and\n",
      " |        'xmlcharrefreplace' as well as any other name registered with\n",
      " |        codecs.register_error that can handle UnicodeEncodeErrors.\n",
      " |  \n",
      " |  endswith(...)\n",
      " |      S.endswith(suffix[, start[, end]]) -> bool\n",
      " |      \n",
      " |      Return True if S ends with the specified suffix, False otherwise.\n",
      " |      With optional start, test S beginning at that position.\n",
      " |      With optional end, stop comparing S at that position.\n",
      " |      suffix can also be a tuple of strings to try.\n",
      " |  \n",
      " |  expandtabs(self, /, tabsize=8)\n",
      " |      Return a copy where all tab characters are expanded using spaces.\n",
      " |      \n",
      " |      If tabsize is not given, a tab size of 8 characters is assumed.\n",
      " |  \n",
      " |  find(...)\n",
      " |      S.find(sub[, start[, end]]) -> int\n",
      " |      \n",
      " |      Return the lowest index in S where substring sub is found,\n",
      " |      such that sub is contained within S[start:end].  Optional\n",
      " |      arguments start and end are interpreted as in slice notation.\n",
      " |      \n",
      " |      Return -1 on failure.\n",
      " |  \n",
      " |  format(...)\n",
      " |      S.format(*args, **kwargs) -> str\n",
      " |      \n",
      " |      Return a formatted version of S, using substitutions from args and kwargs.\n",
      " |      The substitutions are identified by braces ('{' and '}').\n",
      " |  \n",
      " |  format_map(...)\n",
      " |      S.format_map(mapping) -> str\n",
      " |      \n",
      " |      Return a formatted version of S, using substitutions from mapping.\n",
      " |      The substitutions are identified by braces ('{' and '}').\n",
      " |  \n",
      " |  index(...)\n",
      " |      S.index(sub[, start[, end]]) -> int\n",
      " |      \n",
      " |      Return the lowest index in S where substring sub is found,\n",
      " |      such that sub is contained within S[start:end].  Optional\n",
      " |      arguments start and end are interpreted as in slice notation.\n",
      " |      \n",
      " |      Raises ValueError when the substring is not found.\n",
      " |  \n",
      " |  isalnum(self, /)\n",
      " |      Return True if the string is an alpha-numeric string, False otherwise.\n",
      " |      \n",
      " |      A string is alpha-numeric if all characters in the string are alpha-numeric and\n",
      " |      there is at least one character in the string.\n",
      " |  \n",
      " |  isalpha(self, /)\n",
      " |      Return True if the string is an alphabetic string, False otherwise.\n",
      " |      \n",
      " |      A string is alphabetic if all characters in the string are alphabetic and there\n",
      " |      is at least one character in the string.\n",
      " |  \n",
      " |  isascii(self, /)\n",
      " |      Return True if all characters in the string are ASCII, False otherwise.\n",
      " |      \n",
      " |      ASCII characters have code points in the range U+0000-U+007F.\n",
      " |      Empty string is ASCII too.\n",
      " |  \n",
      " |  isdecimal(self, /)\n",
      " |      Return True if the string is a decimal string, False otherwise.\n",
      " |      \n",
      " |      A string is a decimal string if all characters in the string are decimal and\n",
      " |      there is at least one character in the string.\n",
      " |  \n",
      " |  isdigit(self, /)\n",
      " |      Return True if the string is a digit string, False otherwise.\n",
      " |      \n",
      " |      A string is a digit string if all characters in the string are digits and there\n",
      " |      is at least one character in the string.\n",
      " |  \n",
      " |  isidentifier(self, /)\n",
      " |      Return True if the string is a valid Python identifier, False otherwise.\n",
      " |      \n",
      " |      Call keyword.iskeyword(s) to test whether string s is a reserved identifier,\n",
      " |      such as \"def\" or \"class\".\n",
      " |  \n",
      " |  islower(self, /)\n",
      " |      Return True if the string is a lowercase string, False otherwise.\n",
      " |      \n",
      " |      A string is lowercase if all cased characters in the string are lowercase and\n",
      " |      there is at least one cased character in the string.\n",
      " |  \n",
      " |  isnumeric(self, /)\n",
      " |      Return True if the string is a numeric string, False otherwise.\n",
      " |      \n",
      " |      A string is numeric if all characters in the string are numeric and there is at\n",
      " |      least one character in the string.\n",
      " |  \n",
      " |  isprintable(self, /)\n",
      " |      Return True if the string is printable, False otherwise.\n",
      " |      \n",
      " |      A string is printable if all of its characters are considered printable in\n",
      " |      repr() or if it is empty.\n",
      " |  \n",
      " |  isspace(self, /)\n",
      " |      Return True if the string is a whitespace string, False otherwise.\n",
      " |      \n",
      " |      A string is whitespace if all characters in the string are whitespace and there\n",
      " |      is at least one character in the string.\n",
      " |  \n",
      " |  istitle(self, /)\n",
      " |      Return True if the string is a title-cased string, False otherwise.\n",
      " |      \n",
      " |      In a title-cased string, upper- and title-case characters may only\n",
      " |      follow uncased characters and lowercase characters only cased ones.\n",
      " |  \n",
      " |  isupper(self, /)\n",
      " |      Return True if the string is an uppercase string, False otherwise.\n",
      " |      \n",
      " |      A string is uppercase if all cased characters in the string are uppercase and\n",
      " |      there is at least one cased character in the string.\n",
      " |  \n",
      " |  join(self, iterable, /)\n",
      " |      Concatenate any number of strings.\n",
      " |      \n",
      " |      The string whose method is called is inserted in between each given string.\n",
      " |      The result is returned as a new string.\n",
      " |      \n",
      " |      Example: '.'.join(['ab', 'pq', 'rs']) -> 'ab.pq.rs'\n",
      " |  \n",
      " |  ljust(self, width, fillchar=' ', /)\n",
      " |      Return a left-justified string of length width.\n",
      " |      \n",
      " |      Padding is done using the specified fill character (default is a space).\n",
      " |  \n",
      " |  lower(self, /)\n",
      " |      Return a copy of the string converted to lowercase.\n",
      " |  \n",
      " |  lstrip(self, chars=None, /)\n",
      " |      Return a copy of the string with leading whitespace removed.\n",
      " |      \n",
      " |      If chars is given and not None, remove characters in chars instead.\n",
      " |  \n",
      " |  partition(self, sep, /)\n",
      " |      Partition the string into three parts using the given separator.\n",
      " |      \n",
      " |      This will search for the separator in the string.  If the separator is found,\n",
      " |      returns a 3-tuple containing the part before the separator, the separator\n",
      " |      itself, and the part after it.\n",
      " |      \n",
      " |      If the separator is not found, returns a 3-tuple containing the original string\n",
      " |      and two empty strings.\n",
      " |  \n",
      " |  removeprefix(self, prefix, /)\n",
      " |      Return a str with the given prefix string removed if present.\n",
      " |      \n",
      " |      If the string starts with the prefix string, return string[len(prefix):].\n",
      " |      Otherwise, return a copy of the original string.\n",
      " |  \n",
      " |  removesuffix(self, suffix, /)\n",
      " |      Return a str with the given suffix string removed if present.\n",
      " |      \n",
      " |      If the string ends with the suffix string and that suffix is not empty,\n",
      " |      return string[:-len(suffix)]. Otherwise, return a copy of the original\n",
      " |      string.\n",
      " |  \n",
      " |  replace(self, old, new, count=-1, /)\n",
      " |      Return a copy with all occurrences of substring old replaced by new.\n",
      " |      \n",
      " |        count\n",
      " |          Maximum number of occurrences to replace.\n",
      " |          -1 (the default value) means replace all occurrences.\n",
      " |      \n",
      " |      If the optional argument count is given, only the first count occurrences are\n",
      " |      replaced.\n",
      " |  \n",
      " |  rfind(...)\n",
      " |      S.rfind(sub[, start[, end]]) -> int\n",
      " |      \n",
      " |      Return the highest index in S where substring sub is found,\n",
      " |      such that sub is contained within S[start:end].  Optional\n",
      " |      arguments start and end are interpreted as in slice notation.\n",
      " |      \n",
      " |      Return -1 on failure.\n",
      " |  \n",
      " |  rindex(...)\n",
      " |      S.rindex(sub[, start[, end]]) -> int\n",
      " |      \n",
      " |      Return the highest index in S where substring sub is found,\n",
      " |      such that sub is contained within S[start:end].  Optional\n",
      " |      arguments start and end are interpreted as in slice notation.\n",
      " |      \n",
      " |      Raises ValueError when the substring is not found.\n",
      " |  \n",
      " |  rjust(self, width, fillchar=' ', /)\n",
      " |      Return a right-justified string of length width.\n",
      " |      \n",
      " |      Padding is done using the specified fill character (default is a space).\n",
      " |  \n",
      " |  rpartition(self, sep, /)\n",
      " |      Partition the string into three parts using the given separator.\n",
      " |      \n",
      " |      This will search for the separator in the string, starting at the end. If\n",
      " |      the separator is found, returns a 3-tuple containing the part before the\n",
      " |      separator, the separator itself, and the part after it.\n",
      " |      \n",
      " |      If the separator is not found, returns a 3-tuple containing two empty strings\n",
      " |      and the original string.\n",
      " |  \n",
      " |  rsplit(self, /, sep=None, maxsplit=-1)\n",
      " |      Return a list of the substrings in the string, using sep as the separator string.\n",
      " |      \n",
      " |        sep\n",
      " |          The separator used to split the string.\n",
      " |      \n",
      " |          When set to None (the default value), will split on any whitespace\n",
      " |          character (including \\n \\r \\t \\f and spaces) and will discard\n",
      " |          empty strings from the result.\n",
      " |        maxsplit\n",
      " |          Maximum number of splits.\n",
      " |          -1 (the default value) means no limit.\n",
      " |      \n",
      " |      Splitting starts at the end of the string and works to the front.\n",
      " |  \n",
      " |  rstrip(self, chars=None, /)\n",
      " |      Return a copy of the string with trailing whitespace removed.\n",
      " |      \n",
      " |      If chars is given and not None, remove characters in chars instead.\n",
      " |  \n",
      " |  split(self, /, sep=None, maxsplit=-1)\n",
      " |      Return a list of the substrings in the string, using sep as the separator string.\n",
      " |      \n",
      " |        sep\n",
      " |          The separator used to split the string.\n",
      " |      \n",
      " |          When set to None (the default value), will split on any whitespace\n",
      " |          character (including \\n \\r \\t \\f and spaces) and will discard\n",
      " |          empty strings from the result.\n",
      " |        maxsplit\n",
      " |          Maximum number of splits.\n",
      " |          -1 (the default value) means no limit.\n",
      " |      \n",
      " |      Splitting starts at the front of the string and works to the end.\n",
      " |      \n",
      " |      Note, str.split() is mainly useful for data that has been intentionally\n",
      " |      delimited.  With natural text that includes punctuation, consider using\n",
      " |      the regular expression module.\n",
      " |  \n",
      " |  splitlines(self, /, keepends=False)\n",
      " |      Return a list of the lines in the string, breaking at line boundaries.\n",
      " |      \n",
      " |      Line breaks are not included in the resulting list unless keepends is given and\n",
      " |      true.\n",
      " |  \n",
      " |  startswith(...)\n",
      " |      S.startswith(prefix[, start[, end]]) -> bool\n",
      " |      \n",
      " |      Return True if S starts with the specified prefix, False otherwise.\n",
      " |      With optional start, test S beginning at that position.\n",
      " |      With optional end, stop comparing S at that position.\n",
      " |      prefix can also be a tuple of strings to try.\n",
      " |  \n",
      " |  strip(self, chars=None, /)\n",
      " |      Return a copy of the string with leading and trailing whitespace removed.\n",
      " |      \n",
      " |      If chars is given and not None, remove characters in chars instead.\n",
      " |  \n",
      " |  swapcase(self, /)\n",
      " |      Convert uppercase characters to lowercase and lowercase characters to uppercase.\n",
      " |  \n",
      " |  title(self, /)\n",
      " |      Return a version of the string where each word is titlecased.\n",
      " |      \n",
      " |      More specifically, words start with uppercased characters and all remaining\n",
      " |      cased characters have lower case.\n",
      " |  \n",
      " |  translate(self, table, /)\n",
      " |      Replace each character in the string using the given translation table.\n",
      " |      \n",
      " |        table\n",
      " |          Translation table, which must be a mapping of Unicode ordinals to\n",
      " |          Unicode ordinals, strings, or None.\n",
      " |      \n",
      " |      The table must implement lookup/indexing via __getitem__, for instance a\n",
      " |      dictionary or list.  If this operation raises LookupError, the character is\n",
      " |      left untouched.  Characters mapped to None are deleted.\n",
      " |  \n",
      " |  upper(self, /)\n",
      " |      Return a copy of the string converted to uppercase.\n",
      " |  \n",
      " |  zfill(self, width, /)\n",
      " |      Pad a numeric string with zeros on the left, to fill a field of the given width.\n",
      " |      \n",
      " |      The string is never truncated.\n",
      " |  \n",
      " |  ----------------------------------------------------------------------\n",
      " |  Static methods defined here:\n",
      " |  \n",
      " |  __new__(*args, **kwargs)\n",
      " |      Create and return a new object.  See help(type) for accurate signature.\n",
      " |  \n",
      " |  maketrans(...)\n",
      " |      Return a translation table usable for str.translate().\n",
      " |      \n",
      " |      If there is only one argument, it must be a dictionary mapping Unicode\n",
      " |      ordinals (integers) or characters to Unicode ordinals, strings or None.\n",
      " |      Character keys will be then converted to ordinals.\n",
      " |      If there are two arguments, they must be strings of equal length, and\n",
      " |      in the resulting dictionary, each character in x will be mapped to the\n",
      " |      character at the same position in y. If there is a third argument, it\n",
      " |      must be a string, whose characters will be mapped to None in the result.\n",
      "\n",
      "None\n"
     ]
    }
   ],
   "source": [
    "print(dir(text))\n",
    "\n",
    "print(help(str))"
   ]
  },
  {
   "cell_type": "markdown",
   "id": "fe88aa3f",
   "metadata": {},
   "source": [
    "📃list"
   ]
  },
  {
   "cell_type": "code",
   "execution_count": 19,
   "id": "bb35a867",
   "metadata": {},
   "outputs": [
    {
     "name": "stdout",
     "output_type": "stream",
     "text": [
      "['study', 'game', 'food', 'coding']\n"
     ]
    }
   ],
   "source": [
    "task_list = ['study','game','food','coding']\n",
    "print(task_list)"
   ]
  },
  {
   "cell_type": "code",
   "execution_count": 20,
   "id": "4fb4b065",
   "metadata": {},
   "outputs": [
    {
     "name": "stdout",
     "output_type": "stream",
     "text": [
      "first element: study\n",
      "last element: coding\n",
      "length of list: 4\n"
     ]
    }
   ],
   "source": [
    "print(\"first element:\",task_list[0])\n",
    "print(\"last element:\",task_list[-1])\n",
    "print(\"length of list:\",len(task_list))"
   ]
  },
  {
   "cell_type": "code",
   "execution_count": 21,
   "id": "acf923ab",
   "metadata": {},
   "outputs": [
    {
     "ename": "IndexError",
     "evalue": "list index out of range",
     "output_type": "error",
     "traceback": [
      "\u001b[1;31m---------------------------------------------------------------------------\u001b[0m",
      "\u001b[1;31mIndexError\u001b[0m                                Traceback (most recent call last)",
      "Cell \u001b[1;32mIn[21], line 1\u001b[0m\n\u001b[1;32m----> 1\u001b[0m \u001b[38;5;28mprint\u001b[39m(\u001b[38;5;124m\"\u001b[39m\u001b[38;5;124mlast element:\u001b[39m\u001b[38;5;124m\"\u001b[39m,\u001b[43mtask_list\u001b[49m\u001b[43m[\u001b[49m\u001b[38;5;241;43m4\u001b[39;49m\u001b[43m]\u001b[49m)\n",
      "\u001b[1;31mIndexError\u001b[0m: list index out of range"
     ]
    }
   ],
   "source": [
    "print(\"last element:\",task_list[4])"
   ]
  },
  {
   "cell_type": "code",
   "execution_count": null,
   "id": "95cf675b",
   "metadata": {},
   "outputs": [
    {
     "name": "stdout",
     "output_type": "stream",
     "text": [
      "['food', 'coding']\n",
      "['study', 'game']\n"
     ]
    }
   ],
   "source": [
    "#slicing list\n",
    "print(task_list[2:])\n",
    "print(task_list[:2])\n"
   ]
  },
  {
   "cell_type": "code",
   "execution_count": null,
   "id": "a3654b00",
   "metadata": {},
   "outputs": [
    {
     "name": "stdout",
     "output_type": "stream",
     "text": [
      "['study', 'game', 'food', 'coding']\n"
     ]
    }
   ],
   "source": [
    "task_list.insert(0,'football')\n",
    "print(task_list)\n"
   ]
  },
  {
   "cell_type": "markdown",
   "id": "fc5521d6",
   "metadata": {},
   "source": [
    "when we have to add two list "
   ]
  },
  {
   "cell_type": "code",
   "execution_count": null,
   "id": "dd7fd941",
   "metadata": {},
   "outputs": [
    {
     "name": "stdout",
     "output_type": "stream",
     "text": [
      "original: ['study', 'game', 'food', 'coding']\n",
      "new list [['exam', 'webchat bot', 'ai learning'], 'study', 'game', 'food', 'coding']\n",
      "new first element ['exam', 'webchat bot', 'ai learning']\n"
     ]
    }
   ],
   "source": [
    "print('original:',task_list)\n",
    "project=['exam','webchat bot','ai learning']\n",
    "task_list.insert(0,project)\n",
    "#task_list.append(0,'') same result\n",
    "print(\"new list\",task_list)\n",
    "print(\"new first element\",task_list[0])\n"
   ]
  },
  {
   "cell_type": "code",
   "execution_count": null,
   "id": "70ef1b01",
   "metadata": {},
   "outputs": [
    {
     "name": "stdout",
     "output_type": "stream",
     "text": [
      "new extend list: ['game', 'food', 'coding', 'gdg', 'rxgn']\n"
     ]
    }
   ],
   "source": [
    "event_list = ['gdg','rxgn']\n",
    "task_list.extend(event_list)\n",
    "task_list.remove('study')\n",
    "print(\"new extend list:\",task_list)"
   ]
  },
  {
   "cell_type": "markdown",
   "id": "388b870c",
   "metadata": {},
   "source": [
    "looping in list"
   ]
  },
  {
   "cell_type": "code",
   "execution_count": null,
   "id": "3e882b2f",
   "metadata": {},
   "outputs": [
    {
     "name": "stdout",
     "output_type": "stream",
     "text": [
      "maths\n",
      "egd\n",
      "chemistry\n",
      "bee\n",
      "pc\n",
      "pcc\n"
     ]
    }
   ],
   "source": [
    "course = ['maths','egd','chemistry','bee','pc','pcc']\n",
    "for subject in course:\n",
    "    print(subject)\n",
    "    "
   ]
  },
  {
   "cell_type": "code",
   "execution_count": null,
   "id": "2ace4ff2",
   "metadata": {},
   "outputs": [
    {
     "name": "stdout",
     "output_type": "stream",
     "text": [
      "1 maths\n",
      "2 egd\n",
      "3 chemistry\n",
      "4 bee\n",
      "5 pc\n",
      "6 pcc\n"
     ]
    }
   ],
   "source": [
    "for index,subject in enumerate(course,start=1):\n",
    "    print(index,subject)"
   ]
  },
  {
   "cell_type": "markdown",
   "id": "9ffbe425",
   "metadata": {},
   "source": [
    "📃make string to list \n",
    "💬make list to string"
   ]
  },
  {
   "cell_type": "code",
   "execution_count": null,
   "id": "8b0a6a8b",
   "metadata": {},
   "outputs": [
    {
     "name": "stdout",
     "output_type": "stream",
     "text": [
      "this sting: maths,egd,chemistry,bee,pc,pcc \n",
      " type: <class 'str'>\n",
      "this list: ['maths', 'egd', 'chemistry', 'bee', 'pc', 'pcc'] \n",
      " type: <class 'list'>\n"
     ]
    }
   ],
   "source": [
    "course = ['maths','egd','chemistry','bee','pc','pcc']\n",
    "#make list to string\n",
    "course_str =','.join(course)\n",
    "print(f\"this sting:\",course_str,\"\\n\",\"type:\",type(course_str))\n",
    "\n",
    "course_list = course_str.split(',')\n",
    "\n",
    "print(f\"this list:\",course_list,\"\\n\",\"type:\",type(course_list))"
   ]
  },
  {
   "cell_type": "markdown",
   "id": "3fe797fc",
   "metadata": {},
   "source": [
    "dict"
   ]
  },
  {
   "cell_type": "code",
   "execution_count": 29,
   "id": "3caa693d",
   "metadata": {},
   "outputs": [
    {
     "name": "stdout",
     "output_type": "stream",
     "text": [
      "{1: 'student', 'name': 'vedant', 'age': 20, 'subject': ['maths', 'egd', 'chemistry', 'bee', 'pc', 'pcc']}\n",
      "20\n",
      "vedant\n"
     ]
    }
   ],
   "source": [
    "course = ['maths','egd','chemistry','bee','pc','pcc']\n",
    "profile={1:'student','name':'vedant','age':20,'subject':course}\n",
    "print(profile)\n",
    "\n",
    "#see value\n",
    "print(profile['age'])\n",
    "\n",
    "print(profile.get('name'))\n",
    "\n"
   ]
  },
  {
   "cell_type": "code",
   "execution_count": 30,
   "id": "d2f520ac",
   "metadata": {},
   "outputs": [
    {
     "name": "stdout",
     "output_type": "stream",
     "text": [
      "20\n",
      "vedant\n"
     ]
    }
   ],
   "source": [
    "#see value\n",
    "print(profile['age'])\n",
    "\n",
    "print(profile.get('name'))"
   ]
  },
  {
   "cell_type": "code",
   "execution_count": 31,
   "id": "2cfd8f4d",
   "metadata": {},
   "outputs": [
    {
     "name": "stdout",
     "output_type": "stream",
     "text": [
      "technocraft27\n"
     ]
    }
   ],
   "source": [
    "#update value\n",
    "profile['name']='technocraft27'\n",
    "print(profile.get('name'))\n",
    "\n",
    "# update muliti value\n",
    "profile.update({'skill':'grade A','goat':'me'})"
   ]
  },
  {
   "cell_type": "code",
   "execution_count": 32,
   "id": "76565921",
   "metadata": {},
   "outputs": [
    {
     "name": "stdout",
     "output_type": "stream",
     "text": [
      "{1: 'student', 'name': 'technocraft27', 'age': 20, 'subject': ['maths', 'egd', 'chemistry', 'bee', 'pc', 'pcc'], 'skill': 'grade A', 'goat': 'me', 'phone': '1234567890'}\n",
      "20\n",
      "{1: 'student', 'name': 'technocraft27', 'subject': ['maths', 'egd', 'chemistry', 'bee', 'pc', 'pcc'], 'skill': 'grade A', 'goat': 'me', 'phone': '1234567890'}\n"
     ]
    }
   ],
   "source": [
    "#add value\n",
    "profile['phone']='1234567890'\n",
    "print(profile)\n",
    "\n",
    "#remove item\n",
    "remove_age=profile.pop('age')\n",
    "print(remove_age)\n",
    "print(profile)"
   ]
  },
  {
   "cell_type": "code",
   "execution_count": 34,
   "id": "d9adaa04",
   "metadata": {},
   "outputs": [
    {
     "name": "stdout",
     "output_type": "stream",
     "text": [
      "{1: 'student', 'name': 'vedant', 'age': 20, 'subject': ['maths', 'egd', 'chemistry', 'bee', 'pc', 'pcc']}\n",
      "dict_keys([1, 'name', 'age', 'subject'])\n",
      "dict_values(['student', 'vedant', 20, ['maths', 'egd', 'chemistry', 'bee', 'pc', 'pcc']])\n",
      "dict_items([(1, 'student'), ('name', 'vedant'), ('age', 20), ('subject', ['maths', 'egd', 'chemistry', 'bee', 'pc', 'pcc'])])\n"
     ]
    }
   ],
   "source": [
    "profile={1:'student','name':'vedant','age':20,'subject':course}\n",
    "print(profile)\n",
    "\n",
    "print(profile.keys())\n",
    "print(profile.values())\n",
    "print(profile.items())"
   ]
  },
  {
   "cell_type": "code",
   "execution_count": 35,
   "id": "bc77694b",
   "metadata": {},
   "outputs": [
    {
     "name": "stdout",
     "output_type": "stream",
     "text": [
      "key: 1 value: student\n",
      "key: name value: vedant\n",
      "key: age value: 20\n",
      "key: subject value: ['maths', 'egd', 'chemistry', 'bee', 'pc', 'pcc']\n"
     ]
    }
   ],
   "source": [
    "profile={1:'student','name':'vedant','age':20,'subject':course}\n",
    "\n",
    "for key,value in profile.items():\n",
    "    print(\"key:\",key,\"value:\",value)"
   ]
  },
  {
   "cell_type": "markdown",
   "id": "94273f19",
   "metadata": {},
   "source": [
    "# Comparisons:\n",
    "# Equal:            ==\n",
    "# Not Equal:        !=\n",
    "# Greater Than:     >\n",
    "# Less Than:        <\n",
    "# Greater or Equal: >=\n",
    "# Less or Equal:    <=\n",
    "# Object Identity:  is"
   ]
  },
  {
   "cell_type": "markdown",
   "id": "e085120b",
   "metadata": {},
   "source": [
    "# False Values:\n",
    "    # False\n",
    "    # None\n",
    "    # Zero of any numeric type\n",
    "    # Any empty sequence. For example, '', (), [].\n",
    "    # Any empty mapping. For example, {}.\n",
    "\n",
    "condition = False\n",
    "\n",
    "if condition:\n",
    "    print('Evaluated to True')\n",
    "else:\n",
    "    print('Evaluated to False')"
   ]
  },
  {
   "cell_type": "code",
   "execution_count": 36,
   "id": "1578ea43",
   "metadata": {},
   "outputs": [
    {
     "name": "stdout",
     "output_type": "stream",
     "text": [
      "Evaluated to True\n"
     ]
    }
   ],
   "source": [
    "\n",
    "condition = 'Test'\n",
    "\n",
    "if condition:\n",
    "    print('Evaluated to True')\n",
    "else:\n",
    "    print('Evaluated to False')"
   ]
  },
  {
   "cell_type": "code",
   "execution_count": 1,
   "id": "8310f287",
   "metadata": {},
   "outputs": [
    {
     "name": "stdout",
     "output_type": "stream",
     "text": [
      "admin page\n"
     ]
    }
   ],
   "source": [
    "user = 'admin'\n",
    "logged_in=True\n",
    "\n",
    "if user == 'admin' and logged_in:\n",
    "    print('admin page')\n",
    "elif user == 'admin' and not logged_in:\n",
    "    print('login page')\n",
    "else:\n",
    "    print(' create any account')"
   ]
  },
  {
   "cell_type": "code",
   "execution_count": 2,
   "id": "8daea21e",
   "metadata": {},
   "outputs": [
    {
     "name": "stdout",
     "output_type": "stream",
     "text": [
      "please login\n"
     ]
    }
   ],
   "source": [
    "logged_in=False\n",
    "\n",
    "if not logged_in:\n",
    "    print('please login')\n",
    "else:\n",
    "    print('wel-come to dashboard')"
   ]
  },
  {
   "cell_type": "markdown",
   "id": "3aebc50d",
   "metadata": {},
   "source": [
    "loop "
   ]
  },
  {
   "cell_type": "code",
   "execution_count": 17,
   "id": "b4ba1fe2",
   "metadata": {},
   "outputs": [
    {
     "name": "stdout",
     "output_type": "stream",
     "text": [
      "multiply of 2: 2\n",
      "multiply of 2: 4\n",
      "multiply of 2: 6\n",
      "multiply of 2: 8\n",
      "multiply of 2: 0\n"
     ]
    }
   ],
   "source": [
    "nums = [1,2,3,4,5,6,7,8,9,0]\n",
    "\n",
    "for num in nums:\n",
    "    if num%2 ==0:\n",
    "        print(\"multiply of 2:\",num)\n",
    "        "
   ]
  },
  {
   "cell_type": "code",
   "execution_count": 19,
   "id": "ce6aec91",
   "metadata": {},
   "outputs": [
    {
     "name": "stdout",
     "output_type": "stream",
     "text": [
      "1 a correct\n",
      "1 a incorrect\n",
      "1 b correct\n",
      "1 b incorrect\n",
      "1 c correct\n",
      "1 c incorrect\n",
      "2 a correct\n",
      "2 a incorrect\n",
      "2 b correct\n",
      "2 b incorrect\n",
      "2 c correct\n",
      "2 c incorrect\n",
      "3 a correct\n",
      "3 a incorrect\n",
      "3 b correct\n",
      "3 b incorrect\n",
      "3 c correct\n",
      "3 c incorrect\n"
     ]
    }
   ],
   "source": [
    "nums = [1,2,3]\n",
    "\n",
    "for num in nums:\n",
    "    for letter in 'abc':\n",
    "        for answer in ['correct','incorrect']:\n",
    "            print(num,letter,answer)"
   ]
  },
  {
   "cell_type": "code",
   "execution_count": 20,
   "id": "9a498522",
   "metadata": {},
   "outputs": [
    {
     "name": "stdout",
     "output_type": "stream",
     "text": [
      "1\n",
      "2\n",
      "3\n",
      "4\n",
      "5\n",
      "6\n",
      "7\n",
      "8\n",
      "9\n"
     ]
    }
   ],
   "source": [
    "for i in range(1,10):\n",
    "    print(i)"
   ]
  },
  {
   "cell_type": "markdown",
   "id": "be086355",
   "metadata": {},
   "source": [
    "function"
   ]
  },
  {
   "cell_type": "code",
   "execution_count": 29,
   "id": "ae4952a7",
   "metadata": {},
   "outputs": [
    {
     "name": "stdout",
     "output_type": "stream",
     "text": [
      "hello world, how are vedant\n"
     ]
    },
    {
     "data": {
      "text/plain": [
       "'time is :night'"
      ]
     },
     "execution_count": 29,
     "metadata": {},
     "output_type": "execute_result"
    }
   ],
   "source": [
    "def wish_me(name,time):\n",
    "    print(f'hello world, how are {name}')\n",
    "    return \"time is :\" + time\n",
    "\n",
    "\n",
    "wish_me('vedant','night')"
   ]
  },
  {
   "cell_type": "code",
   "execution_count": 34,
   "id": "9841f6ef",
   "metadata": {},
   "outputs": [
    {
     "name": "stdout",
     "output_type": "stream",
     "text": [
      "('name', 'rollno', 'div', 'regsiter')\n",
      "{'BEE': 'not start yet', 'PCC': 'not idea '}\n"
     ]
    }
   ],
   "source": [
    "def student_info(*args,**kwargs):\n",
    "    print(args)\n",
    "    print(kwargs)\n",
    "\n",
    "student_info('name','rollno','div','regsiter',BEE='not start yet',PCC='not idea ')"
   ]
  },
  {
   "cell_type": "code",
   "execution_count": 35,
   "id": "f218226c",
   "metadata": {},
   "outputs": [
    {
     "name": "stdout",
     "output_type": "stream",
     "text": [
      "28\n"
     ]
    }
   ],
   "source": [
    "# Number of days per month. First value placeholder for indexing purposes.\n",
    "month_days = [0, 31, 28, 31, 30, 31, 30, 31, 31, 30, 31, 30, 31]\n",
    "\n",
    "\n",
    "def is_leap(year):\n",
    "    \"\"\"Return True for leap years, False for non-leap years.\"\"\"\n",
    "\n",
    "    return year % 4 == 0 and (year % 100 != 0 or year % 400 == 0)\n",
    "\n",
    "\n",
    "def days_in_month(year, month):\n",
    "    \"\"\"Return number of days in that month in that year.\"\"\"\n",
    "\n",
    "    # year 2017\n",
    "    # month 2\n",
    "    if not 1 <= month <= 12:\n",
    "        return 'Invalid Month'\n",
    "\n",
    "    if month == 2 and is_leap(year):\n",
    "        return 29\n",
    "\n",
    "    return month_days[month]\n",
    "\n",
    "print(days_in_month(2017, 2))"
   ]
  },
  {
   "cell_type": "code",
   "execution_count": 42,
   "id": "f2790f8b",
   "metadata": {},
   "outputs": [
    {
     "name": "stdout",
     "output_type": "stream",
     "text": [
      "test string\n",
      "('name', 'rollno', 'div', 'regsiter')\n",
      "{'BEE': 'not start yet', 'PCC': 'not idea'}\n"
     ]
    },
    {
     "data": {
      "text/plain": [
       "-1"
      ]
     },
     "execution_count": 42,
     "metadata": {},
     "output_type": "execute_result"
    }
   ],
   "source": [
    "import my_module \n",
    "\n",
    "print(my_module.test_from_mymodule)\n",
    "\n",
    "list = ['name','rollno','div','regsiter']\n",
    "dirt = {'BEE':'not start yet','PCC':'not idea'}\n",
    "\n",
    "my_module.student_info(*list,**dirt)\n"
   ]
  },
  {
   "cell_type": "code",
   "execution_count": 43,
   "id": "5d7cf4c0",
   "metadata": {},
   "outputs": [
    {
     "name": "stdout",
     "output_type": "stream",
     "text": [
      "['C:\\\\Program Files\\\\WindowsApps\\\\PythonSoftwareFoundation.Python.3.11_3.11.2544.0_x64__qbz5n2kfra8p0\\\\python311.zip', 'C:\\\\Program Files\\\\WindowsApps\\\\PythonSoftwareFoundation.Python.3.11_3.11.2544.0_x64__qbz5n2kfra8p0\\\\DLLs', 'C:\\\\Program Files\\\\WindowsApps\\\\PythonSoftwareFoundation.Python.3.11_3.11.2544.0_x64__qbz5n2kfra8p0\\\\Lib', 'C:\\\\Program Files\\\\WindowsApps\\\\PythonSoftwareFoundation.Python.3.11_3.11.2544.0_x64__qbz5n2kfra8p0', '', 'C:\\\\Users\\\\sggs\\\\AppData\\\\Local\\\\Packages\\\\PythonSoftwareFoundation.Python.3.11_qbz5n2kfra8p0\\\\LocalCache\\\\local-packages\\\\Python311\\\\site-packages', 'C:\\\\Users\\\\sggs\\\\AppData\\\\Local\\\\Packages\\\\PythonSoftwareFoundation.Python.3.11_qbz5n2kfra8p0\\\\LocalCache\\\\local-packages\\\\Python311\\\\site-packages\\\\win32', 'C:\\\\Users\\\\sggs\\\\AppData\\\\Local\\\\Packages\\\\PythonSoftwareFoundation.Python.3.11_qbz5n2kfra8p0\\\\LocalCache\\\\local-packages\\\\Python311\\\\site-packages\\\\win32\\\\lib', 'C:\\\\Users\\\\sggs\\\\AppData\\\\Local\\\\Packages\\\\PythonSoftwareFoundation.Python.3.11_qbz5n2kfra8p0\\\\LocalCache\\\\local-packages\\\\Python311\\\\site-packages\\\\Pythonwin', 'C:\\\\Program Files\\\\WindowsApps\\\\PythonSoftwareFoundation.Python.3.11_3.11.2544.0_x64__qbz5n2kfra8p0\\\\Lib\\\\site-packages']\n"
     ]
    }
   ],
   "source": [
    "import sys\n",
    "\n",
    "print(sys.path)"
   ]
  },
  {
   "cell_type": "code",
   "execution_count": 52,
   "id": "50e05bc9",
   "metadata": {},
   "outputs": [
    {
     "name": "stdout",
     "output_type": "stream",
     "text": [
      "41\n"
     ]
    }
   ],
   "source": [
    "import random\n",
    "\n",
    "month_days = [0, 31, 28, 35, 63, 31, 74, 71, 81, 90, 21, 10, 41]\n",
    "\n",
    "random_day=random.choice(month_days)\n",
    "print(random_day)"
   ]
  },
  {
   "cell_type": "code",
   "execution_count": 60,
   "id": "12943458",
   "metadata": {},
   "outputs": [
    {
     "name": "stdout",
     "output_type": "stream",
     "text": [
      "Hello, Vedant! How are you?\n",
      "Time is: 22:14:34\n"
     ]
    }
   ],
   "source": [
    "\n",
    "from datetime import datetime\n",
    "\n",
    "\n",
    "\n",
    "def wish_me(name):\n",
    "    current_time = datetime.now().strftime(\"%H:%M:%S\")\n",
    "    print(f'Hello, {name}! How are you?')\n",
    "    return \"Time is: \" + current_time\n",
    "\n",
    "result = wish_me('Vedant')\n",
    "print(result)\n",
    "\n",
    "\n"
   ]
  },
  {
   "cell_type": "code",
   "execution_count": 62,
   "id": "854f6670",
   "metadata": {},
   "outputs": [
    {
     "name": "stdout",
     "output_type": "stream",
     "text": [
      "c:\\Users\\sggs\\Desktop\\technocraft27\\python\\note book\n",
      "C:\\Program Files\\WindowsApps\\PythonSoftwareFoundation.Python.3.11_3.11.2544.0_x64__qbz5n2kfra8p0\\Lib\\os.py\n"
     ]
    }
   ],
   "source": [
    "import os \n",
    "\n",
    "print(os.getcwd())\n",
    "print(os.__file__)\n"
   ]
  },
  {
   "cell_type": "code",
   "execution_count": 63,
   "id": "8c4370d6",
   "metadata": {},
   "outputs": [],
   "source": [
    "import antigravity"
   ]
  },
  {
   "cell_type": "markdown",
   "id": "ac33beb4",
   "metadata": {},
   "source": [
    "create some import pip command\n",
    "\n",
    "Installing a package:\n",
    "pip install <package_name>\n",
    "\n",
    "Freezing the installed packages into a requirements.txt file:\n",
    "pip freeze > requirements.txt\n",
    "\n",
    "Installing packages from a requirements file:\n",
    "pip install -r requirements.txt\n",
    "\n",
    "Upgrading a package to the latest version:\n",
    "pip install -u <package_name>\n",
    "\n",
    "Uninstalling a package:\n",
    "pip uninstall <package_name>\n",
    "\n",
    "Listing installed packages:\n",
    "pip list\n",
    "\n",
    "Searching for a package:\n",
    "pip search <package_name>\n",
    "\n",
    "For update all packages : \n",
    "pip freeze --local | grep -v '^\\-e' | cut -d = -f 1 | xargs -n1 pip install -U"
   ]
  }
 ],
 "metadata": {
  "kernelspec": {
   "display_name": "Python 3",
   "language": "python",
   "name": "python3"
  },
  "language_info": {
   "codemirror_mode": {
    "name": "ipython",
    "version": 3
   },
   "file_extension": ".py",
   "mimetype": "text/x-python",
   "name": "python",
   "nbconvert_exporter": "python",
   "pygments_lexer": "ipython3",
   "version": "3.11.9"
  }
 },
 "nbformat": 4,
 "nbformat_minor": 5
}
